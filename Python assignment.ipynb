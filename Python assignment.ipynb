{
 "cells": [
  {
   "cell_type": "markdown",
   "id": "c42d1163",
   "metadata": {},
   "source": [
    "**1. Write a Python program to reverse a string without using any built-in string reversal functions.**"
   ]
  },
  {
   "cell_type": "code",
   "execution_count": 2,
   "id": "c1f514d9",
   "metadata": {},
   "outputs": [
    {
     "name": "stdout",
     "output_type": "stream",
     "text": [
      "Enter a string : ineuron\n"
     ]
    },
    {
     "data": {
      "text/plain": [
       "'norueni'"
      ]
     },
     "execution_count": 2,
     "metadata": {},
     "output_type": "execute_result"
    }
   ],
   "source": [
    "string = input(\"Enter a string : \")\n",
    "\n",
    "def reverse(string):\n",
    "    \n",
    "    newstr=\"\"\n",
    "    for i in range(len(string)-1,-1,-1):\n",
    "        newstr += string[i]\n",
    "        \n",
    "    return newstr\n",
    "\n",
    "reverse(string)"
   ]
  },
  {
   "cell_type": "markdown",
   "id": "ec6203ac",
   "metadata": {},
   "source": [
    "**2. Implement a function to check if a given string is a palindrome.**"
   ]
  },
  {
   "cell_type": "code",
   "execution_count": 14,
   "id": "41cdb0f0",
   "metadata": {},
   "outputs": [
    {
     "name": "stdout",
     "output_type": "stream",
     "text": [
      "Enter a number 464\n",
      "464 is a palindrome number\n"
     ]
    }
   ],
   "source": [
    "num = int(input(\"Enter a number \"))\n",
    "def palindrome(num):\n",
    "    temp=num\n",
    "    rev=0\n",
    "    \n",
    "    while temp>0:\n",
    "        n=temp%10\n",
    "        rev=(rev*10)+n\n",
    "        temp=temp//10\n",
    "            \n",
    "    if rev == num:\n",
    "        print(num,\"is a palindrome number\")\n",
    "        \n",
    "    else:\n",
    "        print(num,\"is not a palindrome number\")\n",
    "\n",
    "palindrome(num)"
   ]
  },
  {
   "cell_type": "markdown",
   "id": "91d8a3e7",
   "metadata": {},
   "source": [
    "**3. Write a program to find the largest element in a given list.**"
   ]
  },
  {
   "cell_type": "code",
   "execution_count": 30,
   "id": "d684d32e",
   "metadata": {},
   "outputs": [
    {
     "name": "stdout",
     "output_type": "stream",
     "text": [
      "Number of elements in list :5\n",
      "30\n",
      "12\n",
      "64\n",
      "21\n",
      "40\n",
      "List is  [30, 12, 64, 21, 40]\n",
      "Largest number in list is  64\n"
     ]
    }
   ],
   "source": [
    "list1=[]\n",
    "num = int(input(\"Number of elements in list :\"))\n",
    "\n",
    "for i in range(1,num+1):\n",
    "    ele = int(input())\n",
    "    list1.append(ele)\n",
    "    \n",
    "print(\"List is \",list1)\n",
    "    \n",
    "print(\"Largest number in list is \",max(list1))"
   ]
  },
  {
   "cell_type": "markdown",
   "id": "3ea2ebf7",
   "metadata": {},
   "source": [
    "**4. Implement a function to count the occurrence of each element in a list.**"
   ]
  },
  {
   "cell_type": "code",
   "execution_count": 5,
   "id": "bab11faa",
   "metadata": {},
   "outputs": [
    {
     "name": "stdout",
     "output_type": "stream",
     "text": [
      "Number of elements in list :7\n",
      "30\n",
      "54\n",
      "12\n",
      "54\n",
      "30\n",
      "5\n",
      "12\n",
      "List is  [30, 54, 12, 54, 30, 5, 12]\n",
      "Occurrences of each element are: {30: 2, 54: 2, 12: 2, 5: 1}\n"
     ]
    }
   ],
   "source": [
    "list1=[]\n",
    "num = int(input(\"Number of elements in list :\"))\n",
    "\n",
    "for i in range(1,num+1):\n",
    "    ele = int(input())\n",
    "    list1.append(ele)\n",
    "    \n",
    "print(\"List is \",list1)\n",
    "\n",
    "def occurrence(list1):\n",
    "    dict1={}\n",
    "    for i in list1:\n",
    "        dict1.update({i:list1.count(i)})\n",
    "        \n",
    "    print(\"Occurrences of each element are:\",dict1)\n",
    "    \n",
    "occurrence(list1)"
   ]
  },
  {
   "cell_type": "markdown",
   "id": "9eb5b6c4",
   "metadata": {},
   "source": [
    "**5. Write a Python program to find the second largest number in a list.**"
   ]
  },
  {
   "cell_type": "code",
   "execution_count": 13,
   "id": "3e56b642",
   "metadata": {},
   "outputs": [
    {
     "name": "stdout",
     "output_type": "stream",
     "text": [
      "Number of elements in list :5\n",
      "7\n",
      "12\n",
      "9\n",
      "20\n",
      "14\n",
      "List is  [7, 12, 9, 20, 14]\n",
      "Second largest number in list is  14\n"
     ]
    }
   ],
   "source": [
    "list1=[]\n",
    "num = int(input(\"Number of elements in list :\"))\n",
    "\n",
    "for i in range(1,num+1):\n",
    "    ele = int(input())\n",
    "    list1.append(ele)\n",
    "    \n",
    "print(\"List is \",list1)\n",
    "\n",
    "list1.sort(reverse=True)\n",
    "\n",
    "print(\"Second largest number in list is \",list1[1])"
   ]
  },
  {
   "cell_type": "markdown",
   "id": "53ab8c23",
   "metadata": {},
   "source": [
    "**6. Implement a function to remove duplicate elements from a list.**"
   ]
  },
  {
   "cell_type": "code",
   "execution_count": 14,
   "id": "c3b8705d",
   "metadata": {},
   "outputs": [
    {
     "name": "stdout",
     "output_type": "stream",
     "text": [
      "Number of elements in list :7\n",
      "30\n",
      "15\n",
      "25\n",
      "30\n",
      "15\n",
      "14\n",
      "25\n",
      "List is  [30, 15, 25, 30, 15, 14, 25]\n",
      "List without duplicates  [30, 15, 25, 14]\n"
     ]
    }
   ],
   "source": [
    "list1=[]\n",
    "num = int(input(\"Number of elements in list :\"))\n",
    "\n",
    "for i in range(1,num+1):\n",
    "    ele = int(input())\n",
    "    list1.append(ele)\n",
    "    \n",
    "print(\"List is \",list1)\n",
    "\n",
    "def removeduplicate(list1):\n",
    "    \n",
    "    newlist=[]\n",
    "    for ele in list1:\n",
    "        if ele not in newlist:\n",
    "            newlist.append(ele)\n",
    "            \n",
    "    print(\"List without duplicates \",newlist)\n",
    "\n",
    "removeduplicate(list1)"
   ]
  },
  {
   "cell_type": "markdown",
   "id": "e9e0a365",
   "metadata": {},
   "source": [
    "**7. Write a program to calculate the factorial of a given number.**"
   ]
  },
  {
   "cell_type": "code",
   "execution_count": 16,
   "id": "6c188e51",
   "metadata": {},
   "outputs": [
    {
     "name": "stdout",
     "output_type": "stream",
     "text": [
      "Enter a number 7\n",
      "Factorial of 7 is 5040\n"
     ]
    }
   ],
   "source": [
    "num = int(input(\"Enter a number \"))\n",
    "\n",
    "fact = 1\n",
    "\n",
    "for i in range(1,num+1):\n",
    "    fact=fact*i\n",
    "    \n",
    "print(\"Factorial of {0} is {1}\".format(num,fact))"
   ]
  },
  {
   "cell_type": "markdown",
   "id": "4a24523d",
   "metadata": {},
   "source": [
    "**8. Implement a function to check if a given number is prime.**"
   ]
  },
  {
   "cell_type": "code",
   "execution_count": 18,
   "id": "1c5c15ac",
   "metadata": {},
   "outputs": [
    {
     "name": "stdout",
     "output_type": "stream",
     "text": [
      "Enter a number 19\n",
      "19 is prime number\n"
     ]
    }
   ],
   "source": [
    "num = int(input(\"Enter a number \"))\n",
    "\n",
    "def prime(num):\n",
    "    \n",
    "    if num>1:\n",
    "        for i in range(2,num):\n",
    "            if num%i==0:\n",
    "                print(num,\"is not prime number\")\n",
    "                break\n",
    "        else:\n",
    "            print(num,\"is prime number\")\n",
    "        \n",
    "prime(num)"
   ]
  },
  {
   "cell_type": "markdown",
   "id": "3eead2c3",
   "metadata": {},
   "source": [
    "**9. Write a Python program to sort a list of integers in ascending order.**"
   ]
  },
  {
   "cell_type": "code",
   "execution_count": 20,
   "id": "2586a315",
   "metadata": {},
   "outputs": [
    {
     "name": "stdout",
     "output_type": "stream",
     "text": [
      "List in ascending order  [-2, -1, 0, 1, 2, 3, 4]\n"
     ]
    }
   ],
   "source": [
    "list1=[4, 2, 3, -1, -2, 0, 1]\n",
    "\n",
    "for i in range(len(list1)):\n",
    "    \n",
    "    for j in range(i+1,len(list1)):\n",
    "        \n",
    "        if list1[i] > list1[j]:\n",
    "            \n",
    "            list1[i],list1[j] = list1[j],list1[i]\n",
    "            \n",
    "print(\"List in ascending order \",list1)"
   ]
  },
  {
   "cell_type": "markdown",
   "id": "bd07223a",
   "metadata": {},
   "source": [
    "**10. Implement a function to find the sum of all numbers in a list.**"
   ]
  },
  {
   "cell_type": "code",
   "execution_count": 22,
   "id": "2ae856a3",
   "metadata": {},
   "outputs": [
    {
     "name": "stdout",
     "output_type": "stream",
     "text": [
      "Sum of all numbers in list is  35\n"
     ]
    }
   ],
   "source": [
    "list1 = [5, 6, 7, 8, 9]\n",
    "\n",
    "def listsum(list1):\n",
    "    sum=0\n",
    "    for i in range(len(list1)):\n",
    "        sum=sum+list1[i]\n",
    "    print(\"Sum of all numbers in list is \",sum)\n",
    "\n",
    "listsum(list1)"
   ]
  },
  {
   "cell_type": "markdown",
   "id": "6131bdef",
   "metadata": {},
   "source": [
    "**11. Write a program to find the common elements between two lists.**"
   ]
  },
  {
   "cell_type": "code",
   "execution_count": 24,
   "id": "de17ffd2",
   "metadata": {},
   "outputs": [
    {
     "name": "stdout",
     "output_type": "stream",
     "text": [
      "{5}\n"
     ]
    }
   ],
   "source": [
    "def common_member(a, b):\n",
    "    a_set = set(a)\n",
    "    b_set = set(b)\n",
    " \n",
    "    if len(a_set.intersection(b_set))>0:\n",
    "        print(a_set & b_set)\n",
    "    else:\n",
    "        print(\"No common elements\")\n",
    "          \n",
    "  \n",
    "a = [1, 2, 3, 4, 5]\n",
    "b = [5, 6, 7, 8, 9]\n",
    "common_member(a, b)\n",
    "  "
   ]
  },
  {
   "cell_type": "code",
   "execution_count": 25,
   "id": "2b61f959",
   "metadata": {},
   "outputs": [
    {
     "name": "stdout",
     "output_type": "stream",
     "text": [
      "No common elements\n"
     ]
    }
   ],
   "source": [
    "a = [1, 2, 3, 4, 5]\n",
    "b = [6, 7, 8, 9]\n",
    "common_member(a, b)"
   ]
  },
  {
   "cell_type": "markdown",
   "id": "072eb76f",
   "metadata": {},
   "source": [
    "**12. Implement a function to check if a given string is an anagram of another string.**"
   ]
  },
  {
   "cell_type": "code",
   "execution_count": 35,
   "id": "5e2463b6",
   "metadata": {},
   "outputs": [
    {
     "name": "stdout",
     "output_type": "stream",
     "text": [
      "Enter a string listen\n",
      "Enter a string silent\n",
      "listen and silent are anagram\n"
     ]
    }
   ],
   "source": [
    "str1 = input(\"Enter a string \")\n",
    "str2 = input(\"Enter a string \")\n",
    "\n",
    "def anagram(str1,str2):\n",
    "    \n",
    "    str1=str1.lower()\n",
    "    str2=str2.lower()\n",
    "    \n",
    "    if len(str1)==len(str2):\n",
    "        \n",
    "        sorted_str1=sorted(str1)\n",
    "        sorted_str2=sorted(str2)\n",
    "        \n",
    "        if sorted_str1==sorted_str2:\n",
    "            print(str1, \"and\", str2 , \"are anagram\")\n",
    "            \n",
    "        else:\n",
    "            print(str1, \"and\" , str2 , \"are  not anagram\")\n",
    "            \n",
    "    else:\n",
    "        print(str1 , \"and\" , str2 , \"are  not anagram\") \n",
    "        \n",
    "        \n",
    "anagram(str1,str2)"
   ]
  },
  {
   "cell_type": "markdown",
   "id": "20d3a339",
   "metadata": {},
   "source": [
    "**13. Write a Python program to generate all permutations of a given string.**"
   ]
  },
  {
   "cell_type": "code",
   "execution_count": 71,
   "id": "0adb09a0",
   "metadata": {},
   "outputs": [
    {
     "name": "stdout",
     "output_type": "stream",
     "text": [
      "yup\n",
      "ypu\n",
      "uyp\n",
      "upy\n",
      "puy\n",
      "pyu\n",
      "None\n"
     ]
    }
   ],
   "source": [
    "def get_permutation(string, i=0):\n",
    "\n",
    "    if i == len(string):   \n",
    "        print(\"\".join(string))\n",
    "\n",
    "    for j in range(i, len(string)):\n",
    "\n",
    "        words = [c for c in string]\n",
    "   \n",
    "        # swap\n",
    "        words[i], words[j] = words[j], words[i]\n",
    "   \n",
    "        get_permutation(words, i + 1)\n",
    "\n",
    "print(get_permutation('yup'))"
   ]
  },
  {
   "cell_type": "markdown",
   "id": "9f233cc9",
   "metadata": {},
   "source": [
    "**14. Implement a function to calculate the Fibonacci sequence up to a given number of terms.**"
   ]
  },
  {
   "cell_type": "code",
   "execution_count": 40,
   "id": "34d11352",
   "metadata": {},
   "outputs": [
    {
     "name": "stdout",
     "output_type": "stream",
     "text": [
      "How many number of terms 10\n",
      "Fibonacci Sequence \n",
      "0\n",
      "1\n",
      "1\n",
      "2\n",
      "3\n",
      "5\n",
      "8\n",
      "13\n",
      "21\n",
      "34\n"
     ]
    }
   ],
   "source": [
    "num = int(input(\"How many number of terms \"))\n",
    "\n",
    "def Fibonacci(num):\n",
    "    \n",
    "    n1,n2=0,1\n",
    "    count=0\n",
    "    \n",
    "    if num<0:\n",
    "        print(\"Please enter positive integer \")\n",
    "        \n",
    "    elif num==1:\n",
    "        print(\"Fibonacci sequence up to \",num,\"is \",n1)\n",
    "        \n",
    "    else:\n",
    "        print(\"Fibonacci Sequence \")\n",
    "        while count<num:\n",
    "            \n",
    "            print(n1)\n",
    "            nth=n1+n2\n",
    "            #update values\n",
    "            n1=n2\n",
    "            n2=nth\n",
    "            count +=1\n",
    "            \n",
    "Fibonacci(num)"
   ]
  },
  {
   "cell_type": "markdown",
   "id": "67048d3a",
   "metadata": {},
   "source": [
    "**15. Write a program to find the median of a list of numbers.**"
   ]
  },
  {
   "cell_type": "code",
   "execution_count": 72,
   "id": "da1ccb09",
   "metadata": {},
   "outputs": [
    {
     "name": "stdout",
     "output_type": "stream",
     "text": [
      "Median of  [1, 2, 3, 4, 5, 6] is 3.5\n"
     ]
    }
   ],
   "source": [
    "def cal_median(list1):\n",
    "    \n",
    "    n = len(list1)\n",
    "    m = n//2\n",
    "    list1 = sorted(list1)\n",
    "    \n",
    "    if n%2==0:\n",
    "        median = (list1[m-1] + list1[m])/2\n",
    "        print(\"Median of \",list1, \"is\" ,median)\n",
    "        \n",
    "    else:\n",
    "        median = list1[m]\n",
    "        print(\"Median of \",list1, \"is\" ,median)\n",
    "        \n",
    "cal_median([6,1,2,4,5,3])"
   ]
  },
  {
   "cell_type": "markdown",
   "id": "a8f3383c",
   "metadata": {},
   "source": [
    "**16. Implement a function to check if a given list is sorted in non-decreasing order.**"
   ]
  },
  {
   "cell_type": "code",
   "execution_count": 85,
   "id": "1afa78b3",
   "metadata": {},
   "outputs": [
    {
     "name": "stdout",
     "output_type": "stream",
     "text": [
      "[1, 2, 3, 5, 4, 6] is not sorted in non-decreasing order\n"
     ]
    }
   ],
   "source": [
    "def order(list1):\n",
    "    \n",
    "    for i in range(0,len(list1)-1):\n",
    "        \n",
    "        if list1[i]>=list1[i+1]:\n",
    "                print(list1,\"is not sorted in non-decreasing order\")\n",
    "                break\n",
    "                \n",
    "    else:\n",
    "        print(list1,\"is sorted in non-decreasing order\")\n",
    "            \n",
    "            \n",
    "order([1,2,3,5,4,6])"
   ]
  },
  {
   "cell_type": "code",
   "execution_count": 88,
   "id": "b213d3e9",
   "metadata": {},
   "outputs": [
    {
     "name": "stdout",
     "output_type": "stream",
     "text": [
      "[5, 9, 12, 17, 21, 25] is sorted in non-decreasing order\n"
     ]
    }
   ],
   "source": [
    "order([5,9,12,17,21,25])"
   ]
  },
  {
   "cell_type": "markdown",
   "id": "355c7602",
   "metadata": {},
   "source": [
    "**17. Write a Python program to find the intersection of two lists.**"
   ]
  },
  {
   "cell_type": "code",
   "execution_count": 93,
   "id": "1da2c655",
   "metadata": {},
   "outputs": [
    {
     "name": "stdout",
     "output_type": "stream",
     "text": [
      "Intersection of two lists is  [3, 4, 5]\n"
     ]
    }
   ],
   "source": [
    "def intersection(list1,list2):\n",
    "    newlist = [i for i in list1 if i in list2]\n",
    "    print(\"Intersection of two lists is \",newlist)\n",
    "    \n",
    "list1=[1,2,3,4,5]\n",
    "list2=[3,4,5,6,7]\n",
    "intersection(list1,list2)"
   ]
  },
  {
   "cell_type": "markdown",
   "id": "4291ab99",
   "metadata": {},
   "source": [
    "**18. Implement a function to find the maximum subarray sum in a given list.**"
   ]
  },
  {
   "cell_type": "code",
   "execution_count": 77,
   "id": "112699fa",
   "metadata": {},
   "outputs": [
    {
     "name": "stdout",
     "output_type": "stream",
     "text": [
      "Maximum contiguous sum is 7\n"
     ]
    }
   ],
   "source": [
    "from math import inf\n",
    "maxint=inf\n",
    "\n",
    "def maxSubArraySum(a,size):\n",
    "      \n",
    "    max_so_far = -maxint - 1\n",
    "    max_ending_here = 0\n",
    "      \n",
    "    for i in range(0, size):\n",
    "        max_ending_here = max_ending_here + a[i]\n",
    "        if (max_so_far < max_ending_here):\n",
    "            max_so_far = max_ending_here\n",
    " \n",
    "        if max_ending_here < 0:\n",
    "            max_ending_here = 0  \n",
    "    return max_so_far\n",
    "  \n",
    "\n",
    "a = [-2, -3, 4, -1, -2, 1, 5, -3]\n",
    "print (\"Maximum contiguous sum is\", maxSubArraySum(a,len(a)))\n",
    "  "
   ]
  },
  {
   "cell_type": "markdown",
   "id": "e845d410",
   "metadata": {},
   "source": [
    "**19. Write a program to remove all vowels from a given string**"
   ]
  },
  {
   "cell_type": "code",
   "execution_count": 98,
   "id": "4ca5609b",
   "metadata": {},
   "outputs": [
    {
     "name": "stdout",
     "output_type": "stream",
     "text": [
      "Enter a string  ineuron\n",
      "String after removing all vowels : nrn\n"
     ]
    }
   ],
   "source": [
    "string = input(\"Enter a string  \")\n",
    "def removevowel(string):\n",
    "    \n",
    "    vowels = ['a','e','i','o','u']\n",
    "    string = string.lower()\n",
    "    newstr = [i for i in string if i not in vowels]\n",
    "    str = ''.join(newstr)\n",
    "    print(\"String after removing all vowels :\", str)\n",
    "\n",
    "removevowel(string)"
   ]
  },
  {
   "cell_type": "markdown",
   "id": "af1b21eb",
   "metadata": {},
   "source": [
    "**20. Implement a function to reverse the order of words in a given sentence.**"
   ]
  },
  {
   "cell_type": "code",
   "execution_count": 115,
   "id": "c6974056",
   "metadata": {},
   "outputs": [
    {
     "name": "stdout",
     "output_type": "stream",
     "text": [
      "Enter a sentence  Python is popular programming language\n",
      "language programming popular is Python\n"
     ]
    }
   ],
   "source": [
    "sentence = input(\"Enter a sentence  \")\n",
    "\n",
    "def reversestr(sentence):\n",
    "    \n",
    "    list1 = sentence.split()\n",
    "    list1.reverse()\n",
    "    newsentence = ' '.join(list1)\n",
    "    \n",
    "    print(newsentence)\n",
    "    \n",
    "reversestr(sentence)    "
   ]
  },
  {
   "cell_type": "markdown",
   "id": "d4c711e1",
   "metadata": {},
   "source": [
    "**21. Write a Python program to check if two strings are anagrams of each other**"
   ]
  },
  {
   "cell_type": "code",
   "execution_count": 119,
   "id": "32662fac",
   "metadata": {},
   "outputs": [
    {
     "name": "stdout",
     "output_type": "stream",
     "text": [
      "listen and silent  are anagrams of each other\n"
     ]
    }
   ],
   "source": [
    "str1=\"Listen\"\n",
    "str2=\"Silent\"\n",
    "\n",
    "str1=str1.lower()\n",
    "str2=str2.lower()\n",
    "\n",
    "if len(str1)==len(str2):\n",
    "    \n",
    "    sorted_str1=sorted(str1)\n",
    "    sorted_str2=sorted(str2)\n",
    "    \n",
    "    if sorted_str1==sorted_str2:\n",
    "        print(str1,\"and\",str2,\" are anagrams of each other\")\n",
    "else:\n",
    "    print(str1,\"and\",str2,\" are not anagrams of each other\")"
   ]
  },
  {
   "cell_type": "markdown",
   "id": "ac9d3ec1",
   "metadata": {},
   "source": [
    "**22. Implement a function to find the first non-repeating character in a string**"
   ]
  },
  {
   "cell_type": "code",
   "execution_count": 138,
   "id": "9bdd986c",
   "metadata": {},
   "outputs": [
    {
     "name": "stdout",
     "output_type": "stream",
     "text": [
      "Enter a string papaya\n",
      "First non repeating character in string is  y\n"
     ]
    }
   ],
   "source": [
    "string=input(\"Enter a string \")\n",
    "\n",
    "def firstchar(string):\n",
    "    string = string.lower()\n",
    "    list1 = [ch for ch in string]\n",
    "    \n",
    "    for i in list1:\n",
    "        \n",
    "        if list1.count(i)==1:\n",
    "            print(\"First non repeating character in string is \",i)\n",
    "            break\n",
    "            \n",
    "firstchar(string)"
   ]
  },
  {
   "cell_type": "markdown",
   "id": "97b92f7e",
   "metadata": {},
   "source": [
    "**23. Write a program to find the prime factors of a given number.**"
   ]
  },
  {
   "cell_type": "code",
   "execution_count": 146,
   "id": "e6728663",
   "metadata": {},
   "outputs": [
    {
     "name": "stdout",
     "output_type": "stream",
     "text": [
      "Enter a number 460\n",
      "Prime factors of 460 are [2, 5, 23]\n"
     ]
    }
   ],
   "source": [
    "num = int(input(\"Enter a number \"))\n",
    "\n",
    "def primefactors(num):\n",
    "    \n",
    "    fact=[]\n",
    "    for i in range(1,num+1):\n",
    "        if num%i==0:\n",
    "            fact.append(i)\n",
    "    \n",
    "    prime=[]\n",
    "    \n",
    "    for n in fact:\n",
    "        if n>1:\n",
    "            \n",
    "            for j in range(2,n):\n",
    "                if n%j==0:\n",
    "                    break\n",
    "            else:\n",
    "                prime.append(n)\n",
    "    \n",
    "    print(\"Prime factors of {0} are {1}\".format(num,prime))\n",
    "    \n",
    "primefactors(num)"
   ]
  },
  {
   "cell_type": "markdown",
   "id": "15914a54",
   "metadata": {},
   "source": [
    "**24. Implement a function to check if a given number is a power of two**"
   ]
  },
  {
   "cell_type": "code",
   "execution_count": 78,
   "id": "0ff3a13f",
   "metadata": {},
   "outputs": [
    {
     "data": {
      "text/plain": [
       "True"
      ]
     },
     "execution_count": 78,
     "metadata": {},
     "output_type": "execute_result"
    }
   ],
   "source": [
    "def isPowerOfTwo(n):\n",
    "    if (n == 0):\n",
    "        return False\n",
    "    while (n != 1):\n",
    "            if (n % 2 != 0):\n",
    "                return False\n",
    "            n = n // 2\n",
    "             \n",
    "    return True\n",
    "\n",
    "isPowerOfTwo(64)"
   ]
  },
  {
   "cell_type": "markdown",
   "id": "1c8ff046",
   "metadata": {},
   "source": [
    "**25. Write a Python program to merge two sorted lists into a single sorted list.**"
   ]
  },
  {
   "cell_type": "code",
   "execution_count": 168,
   "id": "7a27f701",
   "metadata": {},
   "outputs": [],
   "source": [
    "def list_merge(list1, list2):\n",
    "  result = []\n",
    "  while len(list1) and len(list2):\n",
    "    if list1[-1] > list2[-1]:\n",
    "      result.append(list1.pop())\n",
    "    else:\n",
    "      result.append(list2.pop())\n",
    "  \n",
    "  result.extend(list1)\n",
    "  result.extend(list2)\n",
    "  return result[::-1]"
   ]
  },
  {
   "cell_type": "code",
   "execution_count": 169,
   "id": "47ed2dbe",
   "metadata": {},
   "outputs": [
    {
     "data": {
      "text/plain": [
       "[1, 3, 4, 5, 8, 10, 29, 41, 45, 49, 50]"
      ]
     },
     "execution_count": 169,
     "metadata": {},
     "output_type": "execute_result"
    }
   ],
   "source": [
    "list1 = [1, 5, 8, 10, 50]\n",
    "list2 = [3, 4,29, 41, 45, 49]\n",
    "\n",
    "list_merge(list1, list2)"
   ]
  },
  {
   "cell_type": "markdown",
   "id": "60a65bb9",
   "metadata": {},
   "source": [
    "**26. Implement a function to find the mode of a list of numbers.**"
   ]
  },
  {
   "cell_type": "code",
   "execution_count": 187,
   "id": "c5420b3d",
   "metadata": {},
   "outputs": [
    {
     "name": "stdout",
     "output_type": "stream",
     "text": [
      "Mode of [10, 20, 20, 30, 30, 30, 40] is 30\n"
     ]
    }
   ],
   "source": [
    "def mode(list1):\n",
    "    dict1 = {}\n",
    "    for i in list1:\n",
    "        dict1.update({i:list1.count(i)})\n",
    "        \n",
    "    print(\"Mode of\",list1,\"is\" ,max(dict1, key = dict1.get))\n",
    "mode([10, 20, 20, 30, 30 ,30, 40])"
   ]
  },
  {
   "cell_type": "markdown",
   "id": "a92bc8aa",
   "metadata": {},
   "source": [
    "**27. Write a program to find the greatest common divisor (GCD) of two numbers**"
   ]
  },
  {
   "cell_type": "code",
   "execution_count": 196,
   "id": "ff79cca1",
   "metadata": {},
   "outputs": [
    {
     "name": "stdout",
     "output_type": "stream",
     "text": [
      "Enter a number 72\n",
      "Enter a number 54\n",
      "GCD of 72 and 54 is 18\n"
     ]
    }
   ],
   "source": [
    "n1 = int(input(\"Enter a number \"))\n",
    "n2 = int(input(\"Enter a number \"))\n",
    "\n",
    "fact1=[]\n",
    "for i in range(1,n1+1):\n",
    "    if n1%i==0:\n",
    "        fact1.append(i)\n",
    "       \n",
    "fact2=[]\n",
    "for j in range(1,n2+1):\n",
    "    if n2%j==0:\n",
    "        fact2.append(j)\n",
    "\n",
    "GCD=max(set(fact1).intersection(set(fact2)))\n",
    "\n",
    "print(\"GCD of {0} and {1} is {2}\".format(n1,n2,GCD))\n"
   ]
  },
  {
   "cell_type": "markdown",
   "id": "cc148ce3",
   "metadata": {},
   "source": [
    "**28. Implement a function to calculate the square root of a given number**"
   ]
  },
  {
   "cell_type": "code",
   "execution_count": 200,
   "id": "4116d415",
   "metadata": {},
   "outputs": [
    {
     "name": "stdout",
     "output_type": "stream",
     "text": [
      "Enter a number 169\n",
      "Square root of a 169 is 13\n"
     ]
    }
   ],
   "source": [
    "n = int(input(\"Enter a number \"))\n",
    "def sqrt(n):\n",
    "    x=n\n",
    "    y=(x+1)//2\n",
    "    \n",
    "    while y < x:\n",
    "        x = y\n",
    "        y = (x + n // x) // 2\n",
    "        \n",
    "    print(\"Square root of a {0} is {1}\".format(n,x))\n",
    "    \n",
    "sqrt(n)"
   ]
  },
  {
   "cell_type": "markdown",
   "id": "1e16ae08",
   "metadata": {},
   "source": [
    "**29. Write a Python program to check if a given string is a valid palindrome ignoring non-alphanumeric characters**"
   ]
  },
  {
   "cell_type": "code",
   "execution_count": 206,
   "id": "6289bc51",
   "metadata": {},
   "outputs": [
    {
     "name": "stdout",
     "output_type": "stream",
     "text": [
      "Enter a string %madam*\n",
      "%madam*  is palindrome\n"
     ]
    }
   ],
   "source": [
    "string = input(\"Enter a string \")\n",
    "def isPalindrome(string):\n",
    "    left = 0\n",
    "    right = len(string) - 1\n",
    "    \n",
    "    while left < right:\n",
    "        \n",
    "        while left < right and not string[left].isalnum():\n",
    "            left +=1\n",
    "        \n",
    "        while left < right and not string[right].isalnum():\n",
    "            right -=1\n",
    "            \n",
    "        if string[left].lower() != string[right].lower():\n",
    "            print(string, \"is not  palindrome\")\n",
    "            \n",
    "        else:\n",
    "            left +=1\n",
    "            right -=1\n",
    "            \n",
    "    print(string,\" is palindrome\")\n",
    "            \n",
    "isPalindrome(string)   "
   ]
  },
  {
   "cell_type": "markdown",
   "id": "5152ac17",
   "metadata": {},
   "source": [
    "**30. Implement a function to find the minimum element in a rotated sorted list.**"
   ]
  },
  {
   "cell_type": "code",
   "execution_count": null,
   "id": "2f984b43",
   "metadata": {},
   "outputs": [],
   "source": []
  },
  {
   "cell_type": "markdown",
   "id": "2e0f9018",
   "metadata": {},
   "source": [
    "**31. Write a program to find the sum of all even numbers in a list.**"
   ]
  },
  {
   "cell_type": "code",
   "execution_count": 207,
   "id": "193c7902",
   "metadata": {},
   "outputs": [
    {
     "name": "stdout",
     "output_type": "stream",
     "text": [
      "Sum of all even numbers in a list is  20\n"
     ]
    }
   ],
   "source": [
    "list1=[1,5,8,12,3]\n",
    "sum=0\n",
    "for i in range(len(list1)):\n",
    "    if list1[i]%2==0:\n",
    "        sum=sum+list1[i]\n",
    "        \n",
    "print(\"Sum of all even numbers in a list is \",sum)"
   ]
  },
  {
   "cell_type": "markdown",
   "id": "e5dc3dcf",
   "metadata": {},
   "source": [
    "**32. Implement a function to calculate the power of a number using recursion.**"
   ]
  },
  {
   "cell_type": "code",
   "execution_count": 210,
   "id": "91a3bcae",
   "metadata": {},
   "outputs": [
    {
     "name": "stdout",
     "output_type": "stream",
     "text": [
      "5 to the power 3 is 125\n"
     ]
    }
   ],
   "source": [
    "def power(a, b):\n",
    "    if b != 0:\n",
    "        return a * power(a, b - 1)\n",
    "    else:\n",
    "        return 1\n",
    "    \n",
    "a = 5\n",
    "b = 3\n",
    "print(a, \"to the power\", b, \"is\", power(a, b))"
   ]
  },
  {
   "cell_type": "markdown",
   "id": "acd341ed",
   "metadata": {},
   "source": [
    "**33. Write a Python program to remove duplicates from a list while preserving the order.**"
   ]
  },
  {
   "cell_type": "code",
   "execution_count": 2,
   "id": "80ba915f",
   "metadata": {},
   "outputs": [
    {
     "name": "stdout",
     "output_type": "stream",
     "text": [
      "[1, 2, 3, 4, 7]\n"
     ]
    }
   ],
   "source": [
    "lst = [1, 2, 3, 4, 4, 1, 7]\n",
    "newlst = []\n",
    "for i in lst:\n",
    "    if i not in newlst:\n",
    "        newlst.append(i)\n",
    "print(newlst)"
   ]
  },
  {
   "cell_type": "markdown",
   "id": "3d1df850",
   "metadata": {},
   "source": [
    "**34. Implement a function to find the longest common prefix among a list of strings.**"
   ]
  },
  {
   "cell_type": "code",
   "execution_count": 80,
   "id": "93d7c8a0",
   "metadata": {},
   "outputs": [
    {
     "name": "stdout",
     "output_type": "stream",
     "text": [
      "car\n"
     ]
    }
   ],
   "source": [
    "def longestCommonPrefix(my_str):\n",
    "    if my_str == []:\n",
    "        return ''\n",
    "    if len(my_str) == 1:\n",
    "        return my_str[0]\n",
    "    my_str.sort()\n",
    "    shortest = my_str[0]\n",
    "    prefix = ''\n",
    "    for i in range(len(shortest)):\n",
    "        if my_str[len(my_str) - 1][i] == shortest[i]:\n",
    "            prefix += my_str[len(my_str) - 1][i]\n",
    "        else:\n",
    "            break\n",
    "    return prefix\n",
    "\n",
    "\n",
    "my_list = ['car', 'carbon', 'carbonmonoxide']\n",
    "\n",
    "print(longestCommonPrefix(my_list))"
   ]
  },
  {
   "cell_type": "markdown",
   "id": "7199a0fa",
   "metadata": {},
   "source": [
    "**35. Write a program to check if a given number is a perfect square.**"
   ]
  },
  {
   "cell_type": "code",
   "execution_count": 9,
   "id": "17a1486a",
   "metadata": {},
   "outputs": [
    {
     "name": "stdout",
     "output_type": "stream",
     "text": [
      "Enter a number :729\n",
      "729 is a perfect square\n"
     ]
    }
   ],
   "source": [
    "num = int(input(\"Enter a number :\"))\n",
    "\n",
    "def cheksqrt(num):\n",
    "    \n",
    "    i=1\n",
    "    while(i*i<=num):\n",
    "        if (num%i==0) and (num/i==i):\n",
    "            print(num,\"is a perfect square\")\n",
    "            break\n",
    "            \n",
    "        i +=1\n",
    "        \n",
    "    else:\n",
    "        print(num,\"is not a perfect square\")\n",
    "    \n",
    "\n",
    "cheksqrt(num)"
   ]
  },
  {
   "cell_type": "markdown",
   "id": "f8c1973b",
   "metadata": {},
   "source": [
    "**36. Implement a function to calculate the product of all elements in a list.**"
   ]
  },
  {
   "cell_type": "code",
   "execution_count": 13,
   "id": "b13f206e",
   "metadata": {},
   "outputs": [
    {
     "name": "stdout",
     "output_type": "stream",
     "text": [
      "Product is  210\n"
     ]
    }
   ],
   "source": [
    "lst = [2,3,5,7]\n",
    "\n",
    "def prodcutlst(lst):\n",
    "    product=1\n",
    "    for ele in lst:\n",
    "        product = product*ele\n",
    "    print(\"Product is \",product)\n",
    "\n",
    "prodcutlst(lst)"
   ]
  },
  {
   "cell_type": "markdown",
   "id": "885caecb",
   "metadata": {},
   "source": [
    "**37. Write a Python program to reverse the order of words in a sentence while preserving the word order.**"
   ]
  },
  {
   "cell_type": "code",
   "execution_count": 15,
   "id": "bc22fcf8",
   "metadata": {},
   "outputs": [
    {
     "name": "stdout",
     "output_type": "stream",
     "text": [
      "Enter a sentence This is New York\n",
      "York New is This\n"
     ]
    }
   ],
   "source": [
    "str = input(\"Enter a sentence \")\n",
    "\n",
    "lst = str.split()\n",
    "lst.reverse()\n",
    "\n",
    "result = ' '.join(lst)\n",
    "print(result)"
   ]
  },
  {
   "cell_type": "markdown",
   "id": "ac005cbc",
   "metadata": {},
   "source": [
    "**38. Implement a function to find the missing number in a given list of consecutive numbers.**"
   ]
  },
  {
   "cell_type": "code",
   "execution_count": 90,
   "id": "4e4a0ded",
   "metadata": {},
   "outputs": [
    {
     "name": "stdout",
     "output_type": "stream",
     "text": [
      "Missing number in given list are  [2, 3, 5]\n"
     ]
    }
   ],
   "source": [
    "def missingnum(lst):\n",
    "    \n",
    "    set1 = set(range(lst[0],lst[-1]))\n",
    "    set2=set(lst)\n",
    "    misnum = sorted(set1-set2)\n",
    "    print(\"Missing number in given list are \",misnum)\n",
    "    \n",
    "missingnum([1,4,6,8, 7, 9, 10])"
   ]
  },
  {
   "cell_type": "markdown",
   "id": "a7d34197",
   "metadata": {},
   "source": [
    "**39. Write a program to find the sum of digits of a given number.**"
   ]
  },
  {
   "cell_type": "code",
   "execution_count": 24,
   "id": "c448e08f",
   "metadata": {},
   "outputs": [
    {
     "name": "stdout",
     "output_type": "stream",
     "text": [
      "Enter a number 528\n",
      "sum of digits of 528 is 15\n"
     ]
    }
   ],
   "source": [
    "num = int(input(\"Enter a number \"))\n",
    "\n",
    "temp = num\n",
    "sum=0\n",
    "while temp>0:\n",
    "    n = temp%10\n",
    "    sum = sum + n\n",
    "    temp = temp//10\n",
    "    \n",
    "print(\"sum of digits of {0} is {1}\".format(num,sum))\n",
    "    "
   ]
  },
  {
   "cell_type": "markdown",
   "id": "70d6828e",
   "metadata": {},
   "source": [
    "**40. Implement a function to check if a given string is a valid palindrome considering case sensitivity.**"
   ]
  },
  {
   "cell_type": "code",
   "execution_count": 37,
   "id": "2caf7bdf",
   "metadata": {},
   "outputs": [
    {
     "name": "stdout",
     "output_type": "stream",
     "text": [
      "Enter a string Madam\n",
      "Madam is not a palindrome\n"
     ]
    }
   ],
   "source": [
    "str = input(\"Enter a string \")\n",
    "\n",
    "def palindrome(str):\n",
    "    \n",
    "    reversestr = str[::-1]\n",
    "    \n",
    "    if str == reversestr:\n",
    "        print(str,\"is a palindrome\")\n",
    "    else:\n",
    "        print(str,\"is not a palindrome\")\n",
    "        \n",
    "palindrome(str)"
   ]
  },
  {
   "cell_type": "markdown",
   "id": "2313b017",
   "metadata": {},
   "source": [
    "**41. Write a Python program to find the smallest missing positive integer in a list.**"
   ]
  },
  {
   "cell_type": "code",
   "execution_count": 49,
   "id": "5c70c7bb",
   "metadata": {},
   "outputs": [
    {
     "name": "stdout",
     "output_type": "stream",
     "text": [
      "Smallest missing positive integer in list is  6\n"
     ]
    }
   ],
   "source": [
    "lst = [3,4,7,2,9,5,1]\n",
    "\n",
    "for ele in range(1,max(lst)):\n",
    "    if ele not in lst:\n",
    "        print(\"Smallest missing positive integer in list is \",ele)\n",
    "        break"
   ]
  },
  {
   "cell_type": "markdown",
   "id": "4313a53f",
   "metadata": {},
   "source": [
    "**42. Implement a function to find the longest palindrome substring in a given string.**"
   ]
  },
  {
   "cell_type": "code",
   "execution_count": 92,
   "id": "a573cf1f",
   "metadata": {},
   "outputs": [
    {
     "name": "stdout",
     "output_type": "stream",
     "text": [
      "Longest palindrome substring is: indni\n",
      "Length is:  5\n"
     ]
    }
   ],
   "source": [
    "def longestPalSubstr(string):\n",
    "    \n",
    "    n = len(string) \n",
    "    if (n < 2):\n",
    "        return n \n",
    "    \n",
    "    start=0\n",
    "    maxLength = 1\n",
    "    for i in range(n):\n",
    "        low = i - 1\n",
    "        high = i + 1\n",
    "        while (high < n and string[high] == string[i] ):                              \n",
    "            high=high+1\n",
    "       \n",
    "        while (low >= 0 and string[low] == string[i] ):                \n",
    "            low=low-1\n",
    "       \n",
    "        while (low >= 0 and high < n and string[low] == string[high] ):\n",
    "          low=low-1\n",
    "          high=high+1\n",
    "         \n",
    "     \n",
    "        length = high - low - 1\n",
    "        if (maxLength < length):\n",
    "            maxLength = length\n",
    "            start=low+1\n",
    "             \n",
    "    print (\"Longest palindrome substring is:\",end=\" \")\n",
    "    print (string[start:start + maxLength])\n",
    "     \n",
    "    return maxLength\n",
    "     \n",
    "\n",
    "string = (\"findnitianhere\")\n",
    "print(\"Length is: \",(longestPalSubstr(string)))"
   ]
  },
  {
   "cell_type": "markdown",
   "id": "588a52c6",
   "metadata": {},
   "source": [
    "**43. Write a program to find the number of occurrences of a given element in a list**"
   ]
  },
  {
   "cell_type": "code",
   "execution_count": 50,
   "id": "bf7059f6",
   "metadata": {},
   "outputs": [
    {
     "name": "stdout",
     "output_type": "stream",
     "text": [
      "8 occurs 5 times in list\n"
     ]
    }
   ],
   "source": [
    "lst = [8, 6, 8, 10, 8, 20, 10, 8, 8]\n",
    "x = 8\n",
    "\n",
    "def countx(lst,x):\n",
    "    \n",
    "    count = 0\n",
    "    for ele in lst:\n",
    "        \n",
    "        if (ele==x):\n",
    "            count = count+1\n",
    "    print(x,\"occurs\",count,\"times in list\")\n",
    "    \n",
    "countx(lst,x)\n",
    "            \n",
    "            \n",
    "            \n",
    "            "
   ]
  },
  {
   "cell_type": "markdown",
   "id": "256adcb0",
   "metadata": {},
   "source": [
    "**44. Implement a function to check if a given number is a perfect number.**"
   ]
  },
  {
   "cell_type": "code",
   "execution_count": 56,
   "id": "b8d5ec2e",
   "metadata": {},
   "outputs": [
    {
     "name": "stdout",
     "output_type": "stream",
     "text": [
      "Enter a number 6\n",
      "6 is perfect number\n"
     ]
    }
   ],
   "source": [
    "num = int(input(\"Enter a number \"))\n",
    "\n",
    "def perfectnum(num):\n",
    "    fact=[]\n",
    "    for i in range(1,num):\n",
    "        if num%i==0:\n",
    "            fact.append(i)\n",
    "    sum=0\n",
    "    for j in fact:\n",
    "        sum = sum+j\n",
    "       \n",
    "    if num==sum:\n",
    "        print(num,\"is perfect number\")\n",
    "        \n",
    "    else:\n",
    "        print(num,\"is not a perfect number\")\n",
    "        \n",
    "perfectnum(num)"
   ]
  },
  {
   "cell_type": "markdown",
   "id": "3245195b",
   "metadata": {},
   "source": [
    "**45. Write a Python program to remove all duplicates from a string.**"
   ]
  },
  {
   "cell_type": "code",
   "execution_count": 64,
   "id": "f9eb9acc",
   "metadata": {},
   "outputs": [
    {
     "name": "stdout",
     "output_type": "stream",
     "text": [
      "Enter a string Tasty tomato\n",
      "String without duplicates  tasy om\n"
     ]
    }
   ],
   "source": [
    "str = input(\"Enter a string \")\n",
    "\n",
    "def removeDuplicate(str):\n",
    "    str=str.lower()\n",
    "    k=[]\n",
    "    for ele in str:\n",
    "        if ele not in k:\n",
    "            k.append(ele)\n",
    "            \n",
    "    str1=\"\".join(k)\n",
    "    print(\"String without duplicates \",str1)\n",
    "    \n",
    "removeDuplicate(str)"
   ]
  },
  {
   "cell_type": "markdown",
   "id": "132fdced",
   "metadata": {},
   "source": [
    "**46. Implement a function to find the first missing positive**"
   ]
  },
  {
   "cell_type": "code",
   "execution_count": 69,
   "id": "9daa5d26",
   "metadata": {},
   "outputs": [
    {
     "name": "stdout",
     "output_type": "stream",
     "text": [
      "First missing positive is  4\n"
     ]
    }
   ],
   "source": [
    "lst=[-6, 3, 10, 14, 17, 6, 14, 1, -5, -8, 8, 15, 17, -10, 2, 7, 11, 2, 7, 11]\n",
    "\n",
    "\n",
    "def missing(lst):\n",
    "    \n",
    "    for i in range(1,max(lst)):\n",
    "        if i not in lst:\n",
    "            print(\"First missing positive is \",i)\n",
    "            break\n",
    "            \n",
    "missing(lst)\n",
    "            "
   ]
  }
 ],
 "metadata": {
  "kernelspec": {
   "display_name": "Python (Aditi)",
   "language": "python",
   "name": "aditi"
  },
  "language_info": {
   "codemirror_mode": {
    "name": "ipython",
    "version": 3
   },
   "file_extension": ".py",
   "mimetype": "text/x-python",
   "name": "python",
   "nbconvert_exporter": "python",
   "pygments_lexer": "ipython3",
   "version": "3.7.16"
  }
 },
 "nbformat": 4,
 "nbformat_minor": 5
}
